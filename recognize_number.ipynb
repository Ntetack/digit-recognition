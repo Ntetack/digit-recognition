{
 "cells": [
  {
   "cell_type": "code",
   "execution_count": 1,
   "id": "4a2238c9",
   "metadata": {},
   "outputs": [],
   "source": [
    "import tensorflow as tf\n",
    "from tensorflow.keras.datasets import mnist\n",
    "from tensorflow.keras.models import Sequential\n",
    "from tensorflow.keras.layers import Dense, Flatten"
   ]
  },
  {
   "cell_type": "code",
   "execution_count": 2,
   "id": "f422da0c",
   "metadata": {},
   "outputs": [],
   "source": [
    "#chargement du dataset\n",
    "mnist_dataset = tf.keras.datasets.mnist\n",
    "(x_train, y_train),(x_test, y_test) = mnist_dataset.load_data()"
   ]
  },
  {
   "cell_type": "code",
   "execution_count": 4,
   "id": "d6acd5bc",
   "metadata": {},
   "outputs": [
    {
     "data": {
      "text/plain": [
       "<matplotlib.image.AxesImage at 0x20ead600d90>"
      ]
     },
     "execution_count": 4,
     "metadata": {},
     "output_type": "execute_result"
    },
    {
     "data": {
      "image/png": "[encoded data removed]",
      "text/plain": [
       "<Figure size 640x480 with 1 Axes>"
      ]
     },
     "metadata": {},
     "output_type": "display_data"
    }
   ],
   "source": [
    "#visualisation d'un nombre\n",
    "import matplotlib.pyplot as  plt\n",
    "plt.imshow(x_train[1])"
   ]
  },
  {
   "cell_type": "code",
   "execution_count": 5,
   "id": "d8e9f36b",
   "metadata": {},
   "outputs": [
    {
     "data": {
      "text/plain": [
       "(60000, 28, 28)"
      ]
     },
     "execution_count": 5,
     "metadata": {},
     "output_type": "execute_result"
    }
   ],
   "source": [
    "x_train.shape\n"
   ]
  },
  {
   "cell_type": "code",
   "execution_count": 6,
   "id": "51dec9ee",
   "metadata": {},
   "outputs": [],
   "source": [
    "#normalisation\n",
    "x_train = x_train/255.0\n",
    "x_test = x_test/255.0"
   ]
  },
  {
   "cell_type": "code",
   "execution_count": 7,
   "id": "5dbc62f0",
   "metadata": {},
   "outputs": [],
   "source": [
    "from tensorflow.keras.utils import to_categorical\n",
    "y_train=to_categorical(y_train)\n",
    "y_test=to_categorical(y_test)"
   ]
  },
  {
   "cell_type": "code",
   "execution_count": 8,
   "id": "5c1a7a5c",
   "metadata": {},
   "outputs": [],
   "source": [
    "model = Sequential([\n",
    "    Flatten(input_shape=(28, 28)),\n",
    "    Dense(128, activation='relu'),\n",
    "    Dense(64, activation='relu'),\n",
    "    Dense(10, activation='softmax')\n",
    "])"
   ]
  },
  {
   "cell_type": "code",
   "execution_count": 9,
   "id": "38229c44",
   "metadata": {},
   "outputs": [],
   "source": [
    "model.compile(optimizer='adam', metrics=['accuracy'], loss='categorical_crossentropy')"
   ]
  },
  {
   "cell_type": "code",
   "execution_count": 10,
   "id": "0ba169c4",
   "metadata": {},
   "outputs": [
    {
     "name": "stdout",
     "output_type": "stream",
     "text": [
      "Model: \"sequential\"\n",
      "_________________________________________________________________\n",
      " Layer (type)                Output Shape              Param #   \n",
      "=================================================================\n",
      " flatten (Flatten)           (None, 784)               0         \n",
      "                                                                 \n",
      " dense (Dense)               (None, 128)               100480    \n",
      "                                                                 \n",
      " dense_1 (Dense)             (None, 64)                8256      \n",
      "                                                                 \n",
      " dense_2 (Dense)             (None, 10)                650       \n",
      "                                                                 \n",
      "=================================================================\n",
      "Total params: 109386 (427.29 KB)\n",
      "Trainable params: 109386 (427.29 KB)\n",
      "Non-trainable params: 0 (0.00 Byte)\n",
      "_________________________________________________________________\n"
     ]
    }
   ],
   "source": [
    "model.summary()"
   ]
  },
  {
   "cell_type": "code",
   "execution_count": 11,
   "id": "b68d50b7",
   "metadata": {},
   "outputs": [
    {
     "name": "stdout",
     "output_type": "stream",
     "text": [
      "Epoch 1/20\n",
      "1500/1500 [==============================] - 12s 5ms/step - loss: 0.2643 - accuracy: 0.9225 - val_loss: 0.1382 - val_accuracy: 0.9588\n",
      "Epoch 2/20\n",
      "1500/1500 [==============================] - 8s 5ms/step - loss: 0.1094 - accuracy: 0.9663 - val_loss: 0.1038 - val_accuracy: 0.9682\n",
      "Epoch 3/20\n",
      "1500/1500 [==============================] - 8s 5ms/step - loss: 0.0778 - accuracy: 0.9768 - val_loss: 0.1054 - val_accuracy: 0.9696\n",
      "Epoch 4/20\n",
      "1500/1500 [==============================] - 8s 5ms/step - loss: 0.0565 - accuracy: 0.9823 - val_loss: 0.0948 - val_accuracy: 0.9722\n",
      "Epoch 5/20\n",
      "1500/1500 [==============================] - 8s 5ms/step - loss: 0.0439 - accuracy: 0.9860 - val_loss: 0.1062 - val_accuracy: 0.9707\n",
      "Epoch 6/20\n",
      "1500/1500 [==============================] - 7s 5ms/step - loss: 0.0353 - accuracy: 0.9885 - val_loss: 0.1233 - val_accuracy: 0.9690\n",
      "Epoch 7/20\n",
      "1500/1500 [==============================] - 7s 5ms/step - loss: 0.0292 - accuracy: 0.9905 - val_loss: 0.0891 - val_accuracy: 0.9766\n",
      "Epoch 8/20\n",
      "1500/1500 [==============================] - 7s 5ms/step - loss: 0.0254 - accuracy: 0.9914 - val_loss: 0.1220 - val_accuracy: 0.9696\n",
      "Epoch 9/20\n",
      "1500/1500 [==============================] - 7s 5ms/step - loss: 0.0188 - accuracy: 0.9939 - val_loss: 0.1157 - val_accuracy: 0.9730\n",
      "Epoch 10/20\n",
      "1500/1500 [==============================] - 7s 5ms/step - loss: 0.0193 - accuracy: 0.9935 - val_loss: 0.1070 - val_accuracy: 0.9751\n",
      "Epoch 11/20\n",
      "1500/1500 [==============================] - 8s 5ms/step - loss: 0.0172 - accuracy: 0.9943 - val_loss: 0.1333 - val_accuracy: 0.9728\n",
      "Epoch 12/20\n",
      "1500/1500 [==============================] - 11s 7ms/step - loss: 0.0149 - accuracy: 0.9950 - val_loss: 0.1432 - val_accuracy: 0.9705\n",
      "Epoch 13/20\n",
      "1500/1500 [==============================] - 10s 6ms/step - loss: 0.0146 - accuracy: 0.9952 - val_loss: 0.1212 - val_accuracy: 0.9764\n",
      "Epoch 14/20\n",
      "1500/1500 [==============================] - 7s 5ms/step - loss: 0.0134 - accuracy: 0.9955 - val_loss: 0.1428 - val_accuracy: 0.9746\n",
      "Epoch 15/20\n",
      "1500/1500 [==============================] - 10s 6ms/step - loss: 0.0147 - accuracy: 0.9952 - val_loss: 0.1383 - val_accuracy: 0.9747\n",
      "Epoch 16/20\n",
      "1500/1500 [==============================] - 7s 5ms/step - loss: 0.0094 - accuracy: 0.9967 - val_loss: 0.1361 - val_accuracy: 0.9747\n",
      "Epoch 17/20\n",
      "1500/1500 [==============================] - 9s 6ms/step - loss: 0.0131 - accuracy: 0.9957 - val_loss: 0.1318 - val_accuracy: 0.9753\n",
      "Epoch 18/20\n",
      "1500/1500 [==============================] - 9s 6ms/step - loss: 0.0100 - accuracy: 0.9967 - val_loss: 0.1459 - val_accuracy: 0.9738\n",
      "Epoch 19/20\n",
      "1500/1500 [==============================] - 8s 5ms/step - loss: 0.0099 - accuracy: 0.9966 - val_loss: 0.1348 - val_accuracy: 0.9783\n",
      "Epoch 20/20\n",
      "1500/1500 [==============================] - 10s 7ms/step - loss: 0.0073 - accuracy: 0.9975 - val_loss: 0.1594 - val_accuracy: 0.9720\n"
     ]
    },
    {
     "data": {
      "text/plain": [
       "<keras.src.callbacks.History at 0x20ea9021570>"
      ]
     },
     "execution_count": 11,
     "metadata": {},
     "output_type": "execute_result"
    }
   ],
   "source": [
    "model.fit(x_train, y_train,epochs=20, batch_size=32,validation_split=0.2)"
   ]
  },
  {
   "cell_type": "code",
   "execution_count": 12,
   "id": "29da01c0",
   "metadata": {},
   "outputs": [
    {
     "name": "stdout",
     "output_type": "stream",
     "text": [
      "313/313 - 1s - loss: 0.1275 - accuracy: 0.9783 - 1s/epoch - 4ms/step\n",
      "test accuracy: 0.9782999753952026\n"
     ]
    }
   ],
   "source": [
    "\n",
    "test_loss, test_acc = model.evaluate(x_test, y_test,verbose=2)\n",
    "print('test accuracy:', test_acc)"
   ]
  },
  {
   "cell_type": "code",
   "execution_count": 17,
   "id": "81a91a81",
   "metadata": {},
   "outputs": [],
   "source": [
    "import numpy as np\n",
    "import random"
   ]
  },
  {
   "cell_type": "code",
   "execution_count": 18,
   "id": "a35f53e9",
   "metadata": {},
   "outputs": [
    {
     "name": "stdout",
     "output_type": "stream",
     "text": [
      "1/1 [==============================] - 0s 28ms/step\n"
     ]
    },
    {
     "data": {
      "image/png": "[encoded data removed]",
      "text/plain": [
       "<Figure size 640x480 with 1 Axes>"
      ]
     },
     "metadata": {},
     "output_type": "display_data"
    },
    {
     "name": "stdout",
     "output_type": "stream",
     "text": [
      "Predicted probabilities: [[2.35598228e-20 7.37230372e-15 7.79605882e-17 1.88508697e-19\n",
      "  1.00000000e+00 1.90797726e-19 2.44656154e-23 1.11238935e-11\n",
      "  8.35055766e-14 1.32431195e-08]]\n",
      "1/1 [==============================] - 0s 36ms/step\n"
     ]
    },
    {
     "data": {
      "image/png": "[encoded data removed]",
      "text/plain": [
       "<Figure size 640x480 with 1 Axes>"
      ]
     },
     "metadata": {},
     "output_type": "display_data"
    },
    {
     "name": "stdout",
     "output_type": "stream",
     "text": [
      "Predicted probabilities: [[5.4540248e-15 1.3926257e-17 2.1939845e-18 2.8161327e-18 2.1138340e-10\n",
      "  4.8403143e-13 1.0000000e+00 9.5318055e-24 1.1488216e-15 1.3184613e-17]]\n",
      "1/1 [==============================] - 0s 29ms/step\n"
     ]
    },
    {
     "data": {
      "image/png": "[encoded data removed]",
      "text/plain": [
       "<Figure size 640x480 with 1 Axes>"
      ]
     },
     "metadata": {},
     "output_type": "display_data"
    },
    {
     "name": "stdout",
     "output_type": "stream",
     "text": [
      "Predicted probabilities: [[3.0880081e-13 8.6285501e-12 7.1652281e-08 3.4410693e-08 3.6252612e-21\n",
      "  5.3285427e-20 7.2993551e-21 9.9999988e-01 1.5329349e-09 4.2533514e-09]]\n",
      "1/1 [==============================] - 0s 34ms/step\n"
     ]
    },
    {
     "data": {
      "image/png": "[encoded data removed]",
      "text/plain": [
       "<Figure size 640x480 with 1 Axes>"
      ]
     },
     "metadata": {},
     "output_type": "display_data"
    },
    {
     "name": "stdout",
     "output_type": "stream",
     "text": [
      "Predicted probabilities: [[8.3877736e-20 1.0000000e+00 1.3579614e-11 1.7169424e-14 1.2361091e-09\n",
      "  8.0568724e-14 4.1702146e-14 1.1250526e-12 1.4517020e-10 4.3776414e-13]]\n",
      "1/1 [==============================] - 0s 35ms/step\n"
     ]
    },
    {
     "data": {
      "image/png": "[encoded data removed]",
      "text/plain": [
       "<Figure size 640x480 with 1 Axes>"
      ]
     },
     "metadata": {},
     "output_type": "display_data"
    },
    {
     "name": "stdout",
     "output_type": "stream",
     "text": [
      "Predicted probabilities: [[5.7794178e-30 1.4756614e-16 1.0083733e-16 1.0000000e+00 6.4685434e-30\n",
      "  2.0206459e-18 4.8452066e-33 1.2533356e-20 6.4002189e-20 8.9491158e-23]]\n",
      "1/1 [==============================] - 0s 32ms/step\n"
     ]
    },
    {
     "data": {
      "image/png": "[encoded data removed]",
      "text/plain": [
       "<Figure size 640x480 with 1 Axes>"
      ]
     },
     "metadata": {},
     "output_type": "display_data"
    },
    {
     "name": "stdout",
     "output_type": "stream",
     "text": [
      "Predicted probabilities: [[7.2276022e-26 5.3977877e-23 6.9423239e-24 1.8466813e-26 1.0000000e+00\n",
      "  6.9545592e-27 6.2500075e-26 7.7007168e-22 3.3848641e-24 1.1869684e-14]]\n",
      "1/1 [==============================] - 0s 31ms/step\n"
     ]
    },
    {
     "data": {
      "image/png": "[encoded data removed]",
      "text/plain": [
       "<Figure size 640x480 with 1 Axes>"
      ]
     },
     "metadata": {},
     "output_type": "display_data"
    },
    {
     "name": "stdout",
     "output_type": "stream",
     "text": [
      "Predicted probabilities: [[2.2460413e-16 1.0000000e+00 2.1534658e-11 2.2425238e-15 2.2849398e-15\n",
      "  4.0298832e-12 5.5927993e-14 2.7412146e-09 1.3351339e-12 3.9979999e-14]]\n",
      "1/1 [==============================] - 0s 28ms/step\n"
     ]
    },
    {
     "data": {
      "image/png": "[encoded data removed]",
      "text/plain": [
       "<Figure size 640x480 with 1 Axes>"
      ]
     },
     "metadata": {},
     "output_type": "display_data"
    },
    {
     "name": "stdout",
     "output_type": "stream",
     "text": [
      "Predicted probabilities: [[5.1284882e-23 9.0821414e-15 3.5943403e-17 5.8370561e-04 1.1169822e-21\n",
      "  9.9941623e-01 2.2611268e-17 4.9812523e-24 4.6589701e-09 6.6382633e-08]]\n",
      "1/1 [==============================] - 0s 30ms/step\n"
     ]
    },
    {
     "data": {
      "image/png": "[encoded data removed]",
      "text/plain": [
       "<Figure size 640x480 with 1 Axes>"
      ]
     },
     "metadata": {},
     "output_type": "display_data"
    },
    {
     "name": "stdout",
     "output_type": "stream",
     "text": [
      "Predicted probabilities: [[2.4158538e-15 1.9769678e-14 3.5101166e-07 2.7783835e-07 1.4308019e-20\n",
      "  6.4641838e-12 2.7456144e-16 3.2039276e-17 9.9999940e-01 7.3812802e-14]]\n",
      "1/1 [==============================] - 0s 29ms/step\n"
     ]
    },
    {
     "data": {
      "image/png": "[encoded data removed]",
      "text/plain": [
       "<Figure size 640x480 with 1 Axes>"
      ]
     },
     "metadata": {},
     "output_type": "display_data"
    },
    {
     "name": "stdout",
     "output_type": "stream",
     "text": [
      "Predicted probabilities: [[2.6359544e-16 2.9254076e-13 1.3921053e-13 4.1859664e-08 3.0206167e-11\n",
      "  1.1542740e-13 4.2939698e-20 2.1722057e-08 2.9695202e-10 9.9999988e-01]]\n"
     ]
    }
   ],
   "source": [
    "for i in range(10):\n",
    "    # Prédire sur une seule image\n",
    "    image_index =  random.randint(1, x_test.shape[0]) # Changez cet index pour tester différentes images\n",
    "    single_image = x_test[image_index].reshape(1, 28, 28)  # Reshaper pour correspondre à l'entrée du modèle\n",
    "\n",
    "    # Faire une prédiction\n",
    "    prediction = model.predict(single_image)\n",
    "    predicted_label = np.argmax(prediction)\n",
    "\n",
    "    # Afficher l'image et la prédiction\n",
    "    plt.imshow(x_test[image_index], cmap=plt.cm.binary)\n",
    "    plt.title(f'Predicted Label: {predicted_label}')\n",
    "    plt.axis('off')\n",
    "    plt.show()\n",
    "\n",
    "    # Afficher les probabilités de chaque classe\n",
    "    print(f'Predicted probabilities: {prediction}')"
   ]
  },
  {
   "cell_type": "code",
   "execution_count": 19,
   "id": "5e99a857",
   "metadata": {},
   "outputs": [
    {
     "name": "stderr",
     "output_type": "stream",
     "text": [
      "C:\\Users\\LIEUMO NJOPNU\\anaconda3\\lib\\site-packages\\keras\\src\\engine\\training.py:3079: UserWarning: You are saving your model as an HDF5 file via `model.save()`. This file format is considered legacy. We recommend using instead the native Keras format, e.g. `model.save('my_model.keras')`.\n",
      "  saving_api.save_model(\n"
     ]
    }
   ],
   "source": [
    "model.save(\"model_digit_recognize.h5\")"
   ]
  }
 ],
 "metadata": {
  "kernelspec": {
   "display_name": "Python 3 (ipykernel)",
   "language": "python",
   "name": "python3"
  },
  "language_info": {
   "codemirror_mode": {
    "name": "ipython",
    "version": 3
   },
   "file_extension": ".py",
   "mimetype": "text/x-python",
   "name": "python",
   "nbconvert_exporter": "python",
   "pygments_lexer": "ipython3",
   "version": "3.10.9"
  }
 },
 "nbformat": 4,
 "nbformat_minor": 5
}
